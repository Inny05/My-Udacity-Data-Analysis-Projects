{
 "cells": [
  {
   "cell_type": "markdown",
   "metadata": {},
   "source": [
    "\n",
    "\n",
    "\n",
    "# Part I - (Ford go bike data exploration)\n",
    "## by (Iniobong Nwa)\n",
    "\n",
    "## Introduction\n",
    "> This dataset contains information about individual rides made in a bike sharing company in San Framcisco.\n",
    "\n",
    "\n",
    "\n",
    "## Preliminary Wrangling\n"
   ]
  },
  {
   "cell_type": "code",
   "execution_count": null,
   "metadata": {},
   "outputs": [],
   "source": [
    "# import all packages and set plots to be embedded inline\n",
    "import numpy as np\n",
    "import pandas as pd\n",
    "import matplotlib.pyplot as plt\n",
    "import seaborn as sb\n",
    "import os\n",
    "import datetime as dt\n",
    "\n",
    "\n",
    "%matplotlib inline"
   ]
  },
  {
   "cell_type": "markdown",
   "metadata": {},
   "source": [
    "> Load in your dataset and describe its properties through the questions below. Try and motivate your exploration goals through this section.\n"
   ]
  },
  {
   "cell_type": "code",
   "execution_count": null,
   "metadata": {},
   "outputs": [],
   "source": [
    "#read the csv file\n",
    "fordbikes = pd.read_csv('fordgobike-tripdata.csv')\n"
   ]
  },
  {
   "cell_type": "code",
   "execution_count": null,
   "metadata": {},
   "outputs": [],
   "source": [
    "fordbikes.head(20)"
   ]
  },
  {
   "cell_type": "code",
   "execution_count": null,
   "metadata": {},
   "outputs": [],
   "source": [
    "fordbikes.describe()"
   ]
  },
  {
   "cell_type": "code",
   "execution_count": null,
   "metadata": {},
   "outputs": [],
   "source": [
    "fordbikes.shape"
   ]
  },
  {
   "cell_type": "code",
   "execution_count": null,
   "metadata": {},
   "outputs": [],
   "source": [
    "fordbikes.info()"
   ]
  },
  {
   "cell_type": "code",
   "execution_count": null,
   "metadata": {},
   "outputs": [],
   "source": [
    "df_bike = fordbikes.copy()"
   ]
  },
  {
   "cell_type": "markdown",
   "metadata": {},
   "source": [
    "## Data Cleaning"
   ]
  },
  {
   "cell_type": "markdown",
   "metadata": {},
   "source": [
    "## Issue 1: Missing values in start_station_id, start_station_name,  end_station_id, end_station_name, member_birth_year, member_gender"
   ]
  },
  {
   "cell_type": "markdown",
   "metadata": {},
   "source": [
    "\n",
    "### Define: Drop rows with missinhn values"
   ]
  },
  {
   "cell_type": "code",
   "execution_count": null,
   "metadata": {
    "scrolled": true
   },
   "outputs": [],
   "source": [
    "# view the null values\n",
    "df_bike.isnull().sum()"
   ]
  },
  {
   "cell_type": "markdown",
   "metadata": {},
   "source": [
    "#### Code"
   ]
  },
  {
   "cell_type": "code",
   "execution_count": null,
   "metadata": {},
   "outputs": [],
   "source": [
    "#drop null values\n",
    "df_bike.dropna(inplace= True)"
   ]
  },
  {
   "cell_type": "markdown",
   "metadata": {},
   "source": [
    "#### Test"
   ]
  },
  {
   "cell_type": "code",
   "execution_count": null,
   "metadata": {},
   "outputs": [],
   "source": [
    "df_bike.info()"
   ]
  },
  {
   "cell_type": "markdown",
   "metadata": {},
   "source": [
    "### Issue 2: Wrong data type for start_time and end_time."
   ]
  },
  {
   "cell_type": "markdown",
   "metadata": {},
   "source": [
    "### Define: Convert  start time and end time to datetime"
   ]
  },
  {
   "cell_type": "markdown",
   "metadata": {},
   "source": [
    "#### Code"
   ]
  },
  {
   "cell_type": "code",
   "execution_count": null,
   "metadata": {},
   "outputs": [],
   "source": [
    "#convert to datetime data type\n",
    "df_bike['start_time'] = pd.to_datetime(df_bike['start_time'])\n",
    "df_bike['end_time'] = pd.to_datetime(df_bike['end_time'])"
   ]
  },
  {
   "cell_type": "markdown",
   "metadata": {},
   "source": [
    "#### Test"
   ]
  },
  {
   "cell_type": "code",
   "execution_count": null,
   "metadata": {},
   "outputs": [],
   "source": [
    "df_bike.info()"
   ]
  },
  {
   "cell_type": "markdown",
   "metadata": {},
   "source": [
    "### Issue 3: Wrong data type for bike_id, start_station_id and end_station_id"
   ]
  },
  {
   "cell_type": "markdown",
   "metadata": {},
   "source": [
    "#### Define: Convert bike id, start_station_id and end_station_id column to string data type"
   ]
  },
  {
   "cell_type": "markdown",
   "metadata": {},
   "source": [
    "#### Code"
   ]
  },
  {
   "cell_type": "code",
   "execution_count": null,
   "metadata": {},
   "outputs": [],
   "source": [
    "#convert to object data type\n",
    "df_bike['bike_id'] = df_bike['bike_id'].astype(str)\n",
    "df_bike['bike_id'] = df_bike['start_station_id'].astype(str)\n",
    "df_bike['bike_id'] = df_bike['end_station_id'].astype(str)"
   ]
  },
  {
   "cell_type": "markdown",
   "metadata": {},
   "source": [
    "#### Test"
   ]
  },
  {
   "cell_type": "code",
   "execution_count": null,
   "metadata": {},
   "outputs": [],
   "source": [
    "df_bike.info()"
   ]
  },
  {
   "cell_type": "markdown",
   "metadata": {},
   "source": [
    "## Issue: Wrong data type for user_type, bike_share_for_all_trip and member_gender"
   ]
  },
  {
   "cell_type": "markdown",
   "metadata": {},
   "source": [
    "### Define: Convert user_type, bike_share_for_all_trip and member_gender to categorical data"
   ]
  },
  {
   "cell_type": "markdown",
   "metadata": {},
   "source": [
    "#### Code"
   ]
  },
  {
   "cell_type": "code",
   "execution_count": null,
   "metadata": {},
   "outputs": [],
   "source": [
    "#convert to categorical data\n",
    "df_bike['user_type'] = df_bike['user_type'].astype('category')\n",
    "df_bike['bike_share_for_all_trip'] = df_bike['bike_share_for_all_trip'].astype('category')\n",
    "df_bike['member_gender'] = df_bike['member_gender'].astype('category')"
   ]
  },
  {
   "cell_type": "markdown",
   "metadata": {},
   "source": [
    "#### Test"
   ]
  },
  {
   "cell_type": "code",
   "execution_count": null,
   "metadata": {
    "scrolled": true
   },
   "outputs": [],
   "source": [
    "df_bike.info()"
   ]
  },
  {
   "cell_type": "code",
   "execution_count": null,
   "metadata": {},
   "outputs": [],
   "source": [
    "df_bike['duration_min'] =df_bike['duration_sec']/60\n",
    "df_bike['duration_min'] =df_bike['duration_min'].astype(int)"
   ]
  },
  {
   "cell_type": "markdown",
   "metadata": {},
   "source": [
    "### What is the structure of your dataset?\n",
    "\n",
    "> After cleaning the dataset, I have 174952 bike rides and 16 features.\n",
    "\n",
    "### What is/are the main feature(s) of interest in your dataset?\n",
    "\n",
    "> I would like to find out what type of user is more frequent and the duration of most trips.\n",
    "\n",
    "### What features in the dataset do you think will help support your investigation into your feature(s) of interest?\n",
    "\n",
    "> To do this, I would be working with the duration_sec, user_type and bike_share_for_all_trip."
   ]
  },
  {
   "cell_type": "markdown",
   "metadata": {},
   "source": [
    "## Univariate Exploration\n",
    "\n",
    "> In this section, investigate distributions of individual variables. If\n",
    "you see unusual points or outliers, take a deeper look to clean things up\n",
    "and prepare yourself to look at relationships between variables.\n",
    "\n",
    "\n",
    "> **Rubric Tip**: The project (Parts I alone) should have at least 15 visualizations distributed over univariate, bivariate, and multivariate plots to explore many relationships in the data set.  Use reasoning to justify the flow of the exploration.\n",
    "\n",
    "\n",
    "\n",
    ">**Rubric Tip**: Use the \"Question-Visualization-Observations\" framework  throughout the exploration. This framework involves **asking a question from the data, creating a visualization to find answers, and then recording observations after each visualisation.** \n"
   ]
  },
  {
   "cell_type": "code",
   "execution_count": null,
   "metadata": {},
   "outputs": [],
   "source": [
    "#split the columns into hour, day and month datetime columns\n",
    "df_bike['start_hour'] = df_bike['start_time'].dt.hour\n",
    "df_bike['start_day'] = df_bike['start_time'].dt.day_name()\n",
    "df_bike['start_month'] = df_bike['start_time'].dt.month_name()\n",
    "\n",
    "df_bike['end_hour'] = df_bike['end_time'].dt.hour\n",
    "df_bike['end_day'] = df_bike['end_time'].dt.day_name()\n",
    "df_bike['end_month'] = df_bike['end_time'].dt.month_name()"
   ]
  },
  {
   "cell_type": "code",
   "execution_count": null,
   "metadata": {},
   "outputs": [],
   "source": [
    "print(df_bike.shape)\n",
    "df_bike.head()"
   ]
  },
  {
   "cell_type": "code",
   "execution_count": null,
   "metadata": {},
   "outputs": [],
   "source": [
    "#save as csv file\n",
    "df_bike.to_csv('df_bike.csv')\n",
    "df = pd.read_csv('df_bike.csv')"
   ]
  },
  {
   "cell_type": "code",
   "execution_count": null,
   "metadata": {},
   "outputs": [],
   "source": [
    "df_bike['start_day'].value_counts()"
   ]
  },
  {
   "cell_type": "code",
   "execution_count": null,
   "metadata": {},
   "outputs": [],
   "source": [
    "df_bike['start_month'].value_counts()"
   ]
  },
  {
   "cell_type": "code",
   "execution_count": null,
   "metadata": {},
   "outputs": [],
   "source": [
    "#bike rides for each day in the week\n",
    "base_color = sb.color_palette()[0]\n",
    "days_order = ['Monday', 'Tuesday', 'Wednesday', 'Thursday','Friday','Saturday', 'Sunday']\n",
    "plt.figure(figsize =[15,6])\n",
    "sb.countplot(data= df_bike , x='start_day' , color= base_color, order= days_order)\n",
    "plt.title('Bike ride most popular days', fontsize = 16, fontweight='bold')\n",
    "plt.ylabel('Number of Bike trips', fontsize = 15)\n",
    "plt.xlabel('Bike Ride start days', fontsize= 15)\n",
    "plt.title('Daily Bike Rides', fontsize=14, fontweight='bold')\n",
    "plt.xlabel('Days');\n",
    "days_count = df_bike['start_day'].value_counts()\n",
    "total_trips= days_count.sum()\n",
    "plt.yticks(size=13); \n",
    "locs, labels = plt.xticks( size=14); \n",
    "for loc, label in zip(locs, labels):\n",
    "    count = days_count[label.get_text()]\n",
    "    string = '{:0.1f}%'.format(100*count/total_trips)\n",
    "    plt.text(loc, count-10000, string, ha = 'center', color = 'white',fontsize = 13)"
   ]
  },
  {
   "cell_type": "markdown",
   "metadata": {},
   "source": [
    "From the plot, its obvious that the most rides are recorded on Thursday. In general, there are more daily rides on week days and fewer rides on the weekends."
   ]
  },
  {
   "cell_type": "code",
   "execution_count": null,
   "metadata": {},
   "outputs": [],
   "source": [
    "#bike rides for each gender group\n",
    "print(df_bike['member_gender'].value_counts())\n",
    "\n",
    "sb.countplot(data= df_bike , x='member_gender' , color= base_color)\n",
    "\n",
    "gender_count = df_bike['member_gender'].value_counts()\n",
    "total_gender= gender_count.sum()\n",
    "plt.yticks(size=13);\n",
    "plt.ylabel('Number of Bike trips', fontsize = 15)\n",
    "plt.xlabel('Bike Ride start days', fontsize= 15)\n",
    "plt.title('Bike ride by gender', fontsize=14, fontweight='bold')\n",
    "locs, labels = plt.xticks( size=14)\n",
    "for loc, label in zip(locs, labels):\n",
    "    count = gender_count[label.get_text()]\n",
    "    if count < 40000:\n",
    "        pct_string = '{:0.1f}%'.format(100*count/total_gender)\n",
    "        plt.text(loc, count+1000, pct_string, ha = 'center', color = 'black',fontsize = 13)\n",
    "\n",
    "    else:\n",
    "        pct_string = '{:0.1f}%'.format(100*count/total_gender)\n",
    "        plt.text(loc, count-25000, pct_string, ha = 'center', color = 'white',fontsize = 13)"
   ]
  },
  {
   "cell_type": "markdown",
   "metadata": {},
   "source": [
    "We have a higher percentage of male riders than female riders."
   ]
  },
  {
   "cell_type": "code",
   "execution_count": null,
   "metadata": {},
   "outputs": [],
   "source": [
    "#bike sharing for users type\n",
    "print(df_bike['user_type'].value_counts())\n",
    "sb.countplot(data= df_bike , x='user_type' , color= base_color)\n",
    "\n",
    "usertype_count = df_bike['user_type'].value_counts()\n",
    "users= usertype_count.sum()\n",
    "plt.yticks(size=13)\n",
    "plt.title('Bike Rides By Different Users', fontsize=14, fontweight='bold')\n",
    "plt.ylabel('Number of rides', fontsize=14)\n",
    "plt.xlabel('User Type', fontsize=14)\n",
    "locs, labels = plt.xticks( size=14); \n",
    "for loc, label in zip(locs, labels):\n",
    "    count = usertype_count[label.get_text()]\n",
    "    string = '{:0.1f}%'.format(100*count/users)\n",
    "    plt.text(loc, count-15000, string, ha = 'center', color = 'white',fontsize = 13)\n",
    "plt.show()"
   ]
  },
  {
   "cell_type": "markdown",
   "metadata": {},
   "source": [
    "Most of the users are subscribers and they make up over 90% of the total users."
   ]
  },
  {
   "cell_type": "code",
   "execution_count": null,
   "metadata": {},
   "outputs": [],
   "source": [
    "# no of rides for bike sharing\n",
    "print(df_bike['bike_share_for_all_trip'].value_counts())\n",
    "sb.countplot(data= df_bike, x='bike_share_for_all_trip', color= base_color)\n",
    "\n",
    "bike_sharing_count = df_bike['bike_share_for_all_trip'].value_counts()\n",
    "bike_sharing= bike_sharing_count.sum()\n",
    "plt.yticks(size=13)\n",
    "plt.title('Bike sharing for all Rides', fontsize=14, fontweight='bold')\n",
    "plt.xlabel('Bike sharing for all rides', fontsize=14)\n",
    "plt.ylabel('Number of bike rides', fontsize=14)\n",
    "locs, labels = plt.xticks( size=14); \n",
    "for loc, label in zip(locs, labels):\n",
    "    count = bike_sharing_count[label.get_text()]\n",
    "    string = '{:0.1f}%'.format(100*count/bike_sharing)\n",
    "    plt.text(loc, count-15000, string, ha = 'center', color = 'white',fontsize = 13)\n",
    "    \n"
   ]
  },
  {
   "cell_type": "markdown",
   "metadata": {},
   "source": [
    "90% of the trips are not bike sharing."
   ]
  },
  {
   "cell_type": "code",
   "execution_count": null,
   "metadata": {},
   "outputs": [],
   "source": [
    "#hourly rides for all trips\n",
    "fig, ax = plt.subplots(2,figsize = [15,15])\n",
    "\n",
    "base_color = sb.color_palette()[0]\n",
    "sb.countplot(data= df_bike, x = 'start_hour',color =base_color, ax = ax[0])\n",
    "sb.countplot(data= df_bike, x = 'end_hour', color= base_color, ax =ax[1])\n",
    "plt.title('Hourly Bike Rides', fontsize=14, fontweight='bold')\n",
    "plt.xlabel('Time in hours', fontsize=14)\n",
    "plt.ylabel('Number of Rides')"
   ]
  },
  {
   "cell_type": "markdown",
   "metadata": {},
   "source": [
    "Only about 9% of our riders are into bike sharing while over 90% do not."
   ]
  },
  {
   "cell_type": "markdown",
   "metadata": {},
   "source": [
    "\n",
    "\n",
    ">**Rubric Tip**: Visualizations should depict the data appropriately so that the plots are easily interpretable. You should choose an appropriate plot type, data encodings, and formatting as needed. The formatting may include setting/adding the title, labels, legend, and comments. Also, do not overplot or incorrectly plot ordinal data."
   ]
  },
  {
   "cell_type": "markdown",
   "metadata": {},
   "source": [
    "### Discuss the distribution(s) of your variable(s) of interest. Were there any unusual points? Did you need to perform any transformations?\n",
    "\n",
    "> I split the start_time and end_time columns into, hour, day and month.\n",
    "\n",
    "### Of the features you investigated, were there any unusual distributions? Did you perform any operations on the data to tidy, adjust, or change the form of the data? If so, why did you do this?\n",
    "\n",
    "> I had to add some more columns to enhance our time based analysis.\n",
    "> I had to change the data types of some columns."
   ]
  },
  {
   "cell_type": "markdown",
   "metadata": {},
   "source": [
    "## Bivariate Exploration\n",
    "\n",
    "> In this section, investigate relationships between pairs of variables in your\n",
    "data. Make sure the variables that you cover here have been introduced in some\n",
    "fashion in the previous section (univariate exploration)."
   ]
  },
  {
   "cell_type": "code",
   "execution_count": null,
   "metadata": {},
   "outputs": [],
   "source": [
    "fig, ax = plt.subplots(3,figsize = [14,14])\n",
    "days_order = ['Monday', 'Tuesday', 'Wednesday', 'Thursday','Friday','Saturday', 'Sunday']\n",
    "sb.countplot(data= df_bike, x = 'start_day', hue = 'user_type',order= days_order,ax=ax[0])\n",
    "sb.countplot(data= df_bike, x = 'start_day', hue = 'bike_share_for_all_trip', order= days_order,ax=ax[1])\n",
    "sb.countplot(data= df_bike, x = 'start_day', hue = 'member_gender', order= days_order, ax=ax[2])"
   ]
  },
  {
   "cell_type": "markdown",
   "metadata": {},
   "source": [
    "From the plot above we have more subscribers than customers. We also have very few people bike sharing and we are more males involved than females."
   ]
  },
  {
   "cell_type": "code",
   "execution_count": null,
   "metadata": {},
   "outputs": [],
   "source": [
    "sb.regplot(data = df_bike, x='start_hour', y= 'duration_sec')"
   ]
  },
  {
   "cell_type": "code",
   "execution_count": null,
   "metadata": {},
   "outputs": [],
   "source": [
    "days_count = df_bike.groupby(['start_day', 'user_type']).size()\n",
    "memgen_count = df_bike.groupby(['start_day', 'member_gender']).size()\n",
    "share_count = df_bike.groupby(['start_day', 'bike_share_for_all_trip']).size()"
   ]
  },
  {
   "cell_type": "code",
   "execution_count": null,
   "metadata": {},
   "outputs": [],
   "source": [
    "days_count = days_count.reset_index(name= 'count')\n",
    "memgen_count = memgen_count.reset_index(name= 'count')\n",
    "share_count = share_count.reset_index(name= 'count')"
   ]
  },
  {
   "cell_type": "code",
   "execution_count": null,
   "metadata": {},
   "outputs": [],
   "source": [
    "days_count"
   ]
  },
  {
   "cell_type": "code",
   "execution_count": null,
   "metadata": {},
   "outputs": [],
   "source": [
    "binsize = 100\n",
    "bin_edges = np.arange(0, df_bike['duration_sec'].max()+binsize, binsize)\n",
    "\n",
    "plt.figure(figsize=[8, 5])\n",
    "plt.hist(data = df_bike, x = 'duration_sec', bins = bin_edges)\n",
    "plt.xlabel('Duration in seconds')\n",
    "plt.ylabel('Number of trips')\n",
    "plt.xlim(0,5000) # set up a limit due to the outliers\n",
    "plt.show()"
   ]
  },
  {
   "cell_type": "markdown",
   "metadata": {},
   "source": [
    "The above distribution is right skewed."
   ]
  },
  {
   "cell_type": "code",
   "execution_count": null,
   "metadata": {},
   "outputs": [],
   "source": [
    "hour_order = np.arange(0,24)\n",
    "\n",
    "plt.figure(figsize=(10,6))\n",
    "plt.title('Bike Service Popular Times', fontsize=15)\n",
    "ax = sb.countplot(data=df_bike, x='duration_min',order=hour_order, color=base_color)\n",
    "\n"
   ]
  },
  {
   "cell_type": "markdown",
   "metadata": {},
   "source": [
    "This plot is equally right skewed"
   ]
  },
  {
   "cell_type": "markdown",
   "metadata": {},
   "source": [
    "### Talk about some of the relationships you observed in this part of the investigation. How did the feature(s) of interest vary with other features in the dataset?\n",
    "\n",
    "> I observe we have more subscribers taking longer trips than customers and there are more males taking longer trips than females and other gender groups.\n",
    "\n",
    "### Did you observe any interesting relationships between the other features (not the main feature(s) of interest)?\n",
    "\n",
    "> Most users who go long distances do not bike share."
   ]
  },
  {
   "cell_type": "markdown",
   "metadata": {},
   "source": [
    "## Multivariate Exploration\n"
   ]
  },
  {
   "cell_type": "code",
   "execution_count": null,
   "metadata": {},
   "outputs": [],
   "source": [
    "# plot for trip duration across gender and customer type\n",
    "fig = plt.figure(figsize = [8,6])\n",
    "ax = sb.pointplot(data = df_bike, x ='member_gender', y = 'duration_sec', hue = 'user_type',\n",
    "           palette = 'Blues', linestyles = '', dodge = 0.4)\n",
    "plt.title('Trip Duration across gender and customer type')\n",
    "plt.ylabel('Average Trip Duration (Secs)')"
   ]
  },
  {
   "cell_type": "markdown",
   "metadata": {},
   "source": [
    "From the plot above,I observe that customers take longer trips than subscribers and the other gender groups take longer trips than the frmale and the male gender."
   ]
  },
  {
   "cell_type": "code",
   "execution_count": null,
   "metadata": {},
   "outputs": [],
   "source": [
    "# plot for trip duration across gender and bike sharing for all trips\n",
    "fig = plt.figure(figsize = [8,6])\n",
    "base_color = sb.color_palette()[0]\n",
    "ax = sb.pointplot(data = df_bike, x ='member_gender', y = 'duration_sec', hue = 'bike_share_for_all_trip', \n",
    "            color= base_color, linestyles = '', dodge = 0.4)\n",
    "plt.title('Trip Duration across gender and bike_share_for_all_trip')\n",
    "plt.ylabel('Average Trip Duration (Secs)')\n",
    "ax.set_yticklabels([],minor = True)"
   ]
  },
  {
   "cell_type": "markdown",
   "metadata": {},
   "source": [
    "The other gender group have the longest trip on the average for bike sharing."
   ]
  },
  {
   "cell_type": "code",
   "execution_count": null,
   "metadata": {},
   "outputs": [],
   "source": [
    "# plot for trip duration across customer type and week days\n",
    "fig = plt.figure(figsize = [8,6])\n",
    "ax = sb.pointplot(data = df_bike, x ='start_day', y = 'duration_sec', hue = 'user_type',\n",
    "           palette = 'Blues', linestyles = '', order= days_order, dodge = 0.4)\n",
    "plt.title('Trip Duration across week days and customer type')\n",
    "plt.ylabel('Average Trip Duration (Secs)')\n",
    "ax.set_yticklabels([],minor = True)\n",
    "plt.show();"
   ]
  },
  {
   "cell_type": "markdown",
   "metadata": {},
   "source": [
    "Customers have relatively higher trips than subscribers. Customers recorded higher trip duration on weekends and Subsribers have higher trip duration on weekends too. "
   ]
  },
  {
   "cell_type": "code",
   "execution_count": null,
   "metadata": {},
   "outputs": [],
   "source": [
    "# plot for duration of trips for bike sharing by users and \n",
    "sb.countplot(data = df_bike, x = 'user_type', hue = 'bike_share_for_all_trip', order=df_bike.user_type.value_counts().index)"
   ]
  },
  {
   "cell_type": "markdown",
   "metadata": {},
   "source": [
    "Only subscribers are bike sharing for all trips, customers don't bike share."
   ]
  },
  {
   "cell_type": "code",
   "execution_count": null,
   "metadata": {},
   "outputs": [],
   "source": [
    "sb.countplot(data = df_bike, x = 'user_type', hue = 'member_gender',order=df_bike.user_type.value_counts().index)"
   ]
  },
  {
   "cell_type": "markdown",
   "metadata": {},
   "source": [
    "Subscribers have other gender groups but customer only contained female and male."
   ]
  },
  {
   "cell_type": "markdown",
   "metadata": {},
   "source": [
    "### Talk about some of the relationships you observed in this part of the investigation. Were there features that strengthened each other in terms of looking at your feature(s) of interest?\n",
    "\n",
    "> The longest trips are taken on the weekends and by other gender group.\n",
    "\n",
    "### Were there any interesting or surprising interactions between features?\n",
    "\n",
    "> I discovered that there are only males and females as Customers and other gender groups are only subscribers. The Customers do not bike share. The longest trips are recorded on weekends."
   ]
  },
  {
   "cell_type": "markdown",
   "metadata": {},
   "source": [
    "## Conclusions\n",
    "> Customers travel the same duration regardles of the day of the week.\n",
    "\n",
    "> Only subscribers share bike on the trip.\n",
    "\n",
    "> Over 90% of the trips were by subscribers.\n",
    "\n",
    "> 90% of the trips were not bike sharing for only trips.\n",
    "\n",
    "> We have the most trips on weekdays and fewer number of trips on weekend.\n",
    "\n",
    "> During the weekdays, we have the most number of rides on Thurdays and the the least on Saturdays and Sundays.\n",
    "\n",
    "> We have the most number of trips between 8am-9am and 4pm -5pm."
   ]
  },
  {
   "cell_type": "code",
   "execution_count": null,
   "metadata": {},
   "outputs": [],
   "source": []
  }
 ],
 "metadata": {
  "kernelspec": {
   "display_name": "Python 3",
   "language": "python",
   "name": "python3"
  },
  "language_info": {
   "codemirror_mode": {
    "name": "ipython",
    "version": 3
   },
   "file_extension": ".py",
   "mimetype": "text/x-python",
   "name": "python",
   "nbconvert_exporter": "python",
   "pygments_lexer": "ipython3",
   "version": "3.6.3"
  }
 },
 "nbformat": 4,
 "nbformat_minor": 2
}
